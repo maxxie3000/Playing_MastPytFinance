{
 "cells": [
  {
   "cell_type": "markdown",
   "metadata": {},
   "source": [
    "# Chapter 2: Linearity "
   ]
  },
  {
   "cell_type": "code",
   "execution_count": 1,
   "metadata": {},
   "outputs": [],
   "source": [
    "# Linear regression with SciPy\n",
    "\"\"\"\n",
    "CAPM : Expected Return = risk-free + beta(Expected market return - risk-free)\n",
    "\"\"\"\n",
    "from scipy import stats \n",
    "\n",
    "stock_returns = [0.065, 0.0265, -0.0593, -0.001, 0.0346]\n",
    "mkt_returns = [0.055, -0.09, -0.041, 0.045, 0.022]\n",
    "b, a, r, p, std = stats.linregress(stock_returns, mkt_returns)"
   ]
  },
  {
   "cell_type": "code",
   "execution_count": 2,
   "metadata": {},
   "outputs": [
    {
     "name": "stdout",
     "output_type": "stream",
     "text": [
      "0.5077431878770808 -0.008481900352462384\n"
     ]
    }
   ],
   "source": [
    "print(b, a)"
   ]
  },
  {
   "cell_type": "code",
   "execution_count": 16,
   "metadata": {},
   "outputs": [],
   "source": [
    "# Least squares regression with statsmodels \n",
    "import numpy as np\n",
    "import statsmodels.api as sm \n",
    "\n",
    "num_periods = 9\n",
    "all_values = np.array([np.random.random(8) for i in range(num_periods)])\n",
    "\n",
    "y_values = all_values[:, 0]\n",
    "x_values = all_values[:, 1:]\n",
    "x_values = sm.add_constant(x_values)\n",
    "results = sm.OLS(y_values, x_values).fit()"
   ]
  },
  {
   "cell_type": "code",
   "execution_count": 17,
   "metadata": {},
   "outputs": [
    {
     "name": "stdout",
     "output_type": "stream",
     "text": [
      "                            OLS Regression Results                            \n",
      "==============================================================================\n",
      "Dep. Variable:                      y   R-squared:                       1.000\n",
      "Model:                            OLS   Adj. R-squared:                  0.993\n",
      "Method:                 Least Squares   F-statistic:                     159.0\n",
      "Date:                Fri, 21 Aug 2020   Prob (F-statistic):             0.0624\n",
      "Time:                        20:10:10   Log-Likelihood:                 78.529\n",
      "No. Observations:                  21   AIC:                            -117.1\n",
      "Df Residuals:                       1   BIC:                            -96.17\n",
      "Df Model:                          19                                         \n",
      "Covariance Type:            nonrobust                                         \n",
      "==============================================================================\n",
      "                 coef    std err          t      P>|t|      [0.025      0.975]\n",
      "------------------------------------------------------------------------------\n",
      "const          0.5697      0.111      5.145      0.122      -0.837       1.977\n",
      "x1            -1.2707      0.136     -9.342      0.068      -2.999       0.457\n",
      "x2             1.5299      0.283      5.400      0.117      -2.070       5.130\n",
      "x3            -0.9037      0.035    -25.687      0.025      -1.351      -0.457\n",
      "x4            -1.1234      0.074    -15.208      0.042      -2.062      -0.185\n",
      "x5             1.9646      0.229      8.586      0.074      -0.943       4.872\n",
      "x6             0.0891      0.081      1.095      0.471      -0.944       1.123\n",
      "x7            -1.2055      0.360     -3.348      0.185      -5.780       3.370\n",
      "x8             0.7951      0.124      6.389      0.099      -0.786       2.377\n",
      "x9             0.6429      0.148      4.338      0.144      -1.240       2.526\n",
      "x10           -3.6842      0.373     -9.887      0.064      -8.419       1.050\n",
      "x11            1.1559      0.186      6.216      0.102      -1.207       3.519\n",
      "x12           -1.2284      0.081    -15.151      0.042      -2.258      -0.198\n",
      "x13            1.5470      0.120     12.912      0.049       0.025       3.069\n",
      "x14            1.5314      0.099     15.444      0.041       0.271       2.791\n",
      "x15            0.9139      0.208      4.389      0.143      -1.732       3.560\n",
      "x16            1.2323      0.167      7.365      0.086      -0.894       3.358\n",
      "x17           -2.6247      0.359     -7.314      0.087      -7.185       1.935\n",
      "x18           -1.6161      0.243     -6.650      0.095      -4.704       1.472\n",
      "x19            2.0639      0.319      6.466      0.098      -1.992       6.120\n",
      "==============================================================================\n",
      "Omnibus:                        0.258   Durbin-Watson:                   1.774\n",
      "Prob(Omnibus):                  0.879   Jarque-Bera (JB):                0.015\n",
      "Skew:                          -0.052   Prob(JB):                        0.992\n",
      "Kurtosis:                       2.919   Cond. No.                         388.\n",
      "==============================================================================\n",
      "\n",
      "Warnings:\n",
      "[1] Standard Errors assume that the covariance matrix of the errors is correctly specified.\n"
     ]
    }
   ],
   "source": [
    "print(results.summary())"
   ]
  },
  {
   "cell_type": "code",
   "execution_count": 7,
   "metadata": {},
   "outputs": [
    {
     "name": "stdout",
     "output_type": "stream",
     "text": [
      "[ 0.75515538 -0.41330291  0.02407637 -0.69741638  0.7324195  -0.61060166\n",
      "  0.28553685  0.18547097]\n"
     ]
    }
   ],
   "source": [
    "print(results.params)"
   ]
  },
  {
   "cell_type": "code",
   "execution_count": 29,
   "metadata": {},
   "outputs": [
    {
     "data": {
      "text/plain": [
       "1"
      ]
     },
     "execution_count": 29,
     "metadata": {},
     "output_type": "execute_result"
    }
   ],
   "source": [
    "# Simple Linear optimization problem with 2 variables using Pulp\n",
    "import pulp\n",
    "\n",
    "x = pulp.LpVariable('x', lowBound=0)\n",
    "y = pulp.LpVariable('y', lowBound=0)\n",
    "problem = pulp.LpProblem(\n",
    "            'A_simple_maximization_objective',\n",
    "             pulp.LpMaximize)\n",
    "problem += 3*x + 2*y, 'The objective function'\n",
    "problem += 2*x + y <=100, '1st constraint'\n",
    "problem += x + y <= 80, '2nd constraint'\n",
    "problem += x <= 20, '3rd constraint'\n",
    "problem.solve()"
   ]
  },
  {
   "cell_type": "code",
   "execution_count": 30,
   "metadata": {},
   "outputs": [
    {
     "name": "stdout",
     "output_type": "stream",
     "text": [
      "Maximization Results:\n",
      "x = 20.0\n",
      "y = 60.0\n"
     ]
    }
   ],
   "source": [
    "print('Maximization Results:')\n",
    "for variable in problem.variables():\n",
    "    print(variable.name,'=', variable.varValue)"
   ]
  },
  {
   "cell_type": "code",
   "execution_count": 32,
   "metadata": {},
   "outputs": [
    {
     "data": {
      "text/plain": [
       "1"
      ]
     },
     "execution_count": 32,
     "metadata": {},
     "output_type": "execute_result"
    }
   ],
   "source": [
    "# Example of implementing an integer programming model with binary conditions \n",
    "import pulp\n",
    "\n",
    "dealers = ['X', 'Y', 'Z']\n",
    "variable_costs = {'X': 500, 'Y': 350, 'Z': 450}\n",
    "fixed_costs = {'X': 4000, 'Y': 2000, 'Z': 6000}\n",
    "\n",
    "# Define PuLP variables to solve \n",
    "quantities = pulp.LpVariable.dicts('quantity', dealers, lowBound=0, cat=pulp.LpInteger)\n",
    "is_orders = pulp.LpVariable.dicts('orders', dealers, cat=pulp.LpBinary)\n",
    "\n",
    "#Initialize the model with constraints\n",
    "model = pulp.LpProblem('A_cost_minimization_problem', pulp.LpMinimize)\n",
    "\n",
    "model += sum([variable_costs[i]*quantities[i] + \\\n",
    "                  fixed_costs[i]*is_orders[i] for i in dealers]), 'Minimize portfolio cost'\n",
    "model += sum([quantities[i] for i in dealers]) == 150, 'Total contracts required'\n",
    "model += is_orders['X']*30 <= quantities['X'] <= is_orders['X']*100, 'Boundary of total volume of X'\n",
    "model += is_orders['Y']*30 <= quantities['Y'] <= is_orders['Y']*90, 'Boundary of total volume of Y'\n",
    "model += is_orders['Z']*30 <= quantities['Z'] <= is_orders['Z']*70, 'Boundary of total volume of Z'\n",
    "\n",
    "model.solve()"
   ]
  },
  {
   "cell_type": "code",
   "execution_count": 33,
   "metadata": {},
   "outputs": [
    {
     "name": "stdout",
     "output_type": "stream",
     "text": [
      "Minimization Results:\n",
      "orders_X = 0.0\n",
      "orders_Y = 1.0\n",
      "orders_Z = 1.0\n",
      "quantity_X = 0.0\n",
      "quantity_Y = 90.0\n",
      "quantity_Z = 60.0\n",
      "Total cost: 66500.0\n"
     ]
    }
   ],
   "source": [
    "print('Minimization Results:')\n",
    "for variable in model.variables():\n",
    "    print(variable, '=', variable.varValue)\n",
    "print('Total cost:', pulp.value(model.objective))"
   ]
  },
  {
   "cell_type": "code",
   "execution_count": 52,
   "metadata": {},
   "outputs": [
    {
     "name": "stdout",
     "output_type": "stream",
     "text": [
      "22.1 µs ± 944 ns per loop (mean ± std. dev. of 7 runs, 10000 loops each)\n"
     ]
    }
   ],
   "source": [
    "%%timeit\n",
    "#Using Numpy lingalg \n",
    "import numpy as np \n",
    "\n",
    "A = np.array([[2, 1, 1], [1, 3, 2], [1, 0, 0]])\n",
    "B = np.array([4, 5, 6])\n",
    "\n",
    "results = np.linalg.solve(A, B)"
   ]
  },
  {
   "cell_type": "code",
   "execution_count": 56,
   "metadata": {},
   "outputs": [
    {
     "name": "stdout",
     "output_type": "stream",
     "text": [
      "28 µs ± 673 ns per loop (mean ± std. dev. of 7 runs, 10000 loops each)\n"
     ]
    }
   ],
   "source": [
    "%%timeit\n",
    "#Lu Decomposition with SciPy\n",
    "import numpy as np\n",
    "import scipy.linalg as linalg\n",
    "\n",
    "#Define A and B\n",
    "A = np.array([\n",
    "    [2., 1., 1.],\n",
    "    [1., 3., 2.],\n",
    "    [1., 0., 0.]])\n",
    "B = np.array([4., 5., 6.])\n",
    "\n",
    "LU = linalg.lu_factor(A)\n",
    "x = linalg.lu_solve(LU, B)"
   ]
  },
  {
   "cell_type": "code",
   "execution_count": 41,
   "metadata": {},
   "outputs": [
    {
     "name": "stdout",
     "output_type": "stream",
     "text": [
      "[  6.  15. -23.]\n"
     ]
    }
   ],
   "source": [
    "print(x)"
   ]
  },
  {
   "cell_type": "code",
   "execution_count": 44,
   "metadata": {},
   "outputs": [
    {
     "name": "stdout",
     "output_type": "stream",
     "text": [
      "P= [[1. 0. 0.]\n",
      " [0. 1. 0.]\n",
      " [0. 0. 1.]]\n",
      "L= [[ 1.   0.   0. ]\n",
      " [ 0.5  1.   0. ]\n",
      " [ 0.5 -0.2  1. ]]\n",
      "U= [[ 2.   1.   1. ]\n",
      " [ 0.   2.5  1.5]\n",
      " [ 0.   0.  -0.2]]\n"
     ]
    }
   ],
   "source": [
    "P, L, U = linalg.lu(A)\n",
    "\n",
    "print('P=', P)\n",
    "\n",
    "print('L=', L)\n",
    "\n",
    "print('U=', U)"
   ]
  },
  {
   "cell_type": "code",
   "execution_count": 45,
   "metadata": {},
   "outputs": [],
   "source": [
    "# Cholesky decomposition with NumPy\n",
    "import numpy as np\n",
    "\n",
    "A = np.array([\n",
    "    [10., -1., 2., 0.],\n",
    "    [-1., 11., -1., 3.],\n",
    "    [2., -1., 10., -1.],\n",
    "    [0., 3., -1., 8.]\n",
    "])\n",
    "B = np.array([6., 25., -11., 15.])\n",
    "\n",
    "L = np.linalg.cholesky(A)"
   ]
  },
  {
   "cell_type": "code",
   "execution_count": 46,
   "metadata": {},
   "outputs": [
    {
     "name": "stdout",
     "output_type": "stream",
     "text": [
      "[[ 3.16227766  0.          0.          0.        ]\n",
      " [-0.31622777  3.3015148   0.          0.        ]\n",
      " [ 0.63245553 -0.24231301  3.08889696  0.        ]\n",
      " [ 0.          0.9086738  -0.25245792  2.6665665 ]]\n"
     ]
    }
   ],
   "source": [
    "print(L)"
   ]
  },
  {
   "cell_type": "code",
   "execution_count": 47,
   "metadata": {},
   "outputs": [
    {
     "name": "stdout",
     "output_type": "stream",
     "text": [
      "[[10. -1.  2.  0.]\n",
      " [-1. 11. -1.  3.]\n",
      " [ 2. -1. 10. -1.]\n",
      " [ 0.  3. -1.  8.]]\n"
     ]
    }
   ],
   "source": [
    "print(np.dot(L, L.T.conj()))"
   ]
  },
  {
   "cell_type": "code",
   "execution_count": 48,
   "metadata": {},
   "outputs": [],
   "source": [
    "y = np.linalg.solve(L, B) # L.L*.x=B; When L*.x=y, then L.y=B\n",
    "x = np.linalg.solve(L.T.conj(), y) # x=L*'.y"
   ]
  },
  {
   "cell_type": "code",
   "execution_count": 50,
   "metadata": {},
   "outputs": [
    {
     "name": "stdout",
     "output_type": "stream",
     "text": [
      "[ 1.  2. -1.  1.]\n"
     ]
    }
   ],
   "source": [
    "print(x)"
   ]
  },
  {
   "cell_type": "code",
   "execution_count": 64,
   "metadata": {},
   "outputs": [],
   "source": [
    "\n",
    "# QR decomposition with scipy\n",
    "\n",
    "A = np.array([\n",
    "    [2., 1., 1.],\n",
    "    [1., 3., 2.],\n",
    "    [1., 0., 0.]])\n",
    "B = np.array([4., 5., 6.])\n",
    "\n",
    "Q, R = linalg.qr(A) # QR decomposition\n",
    "y = np.dot(Q.T, B) # Let y=Q'.B\n",
    "x = linalg.solve(R, y) # solve Rx=y"
   ]
  },
  {
   "cell_type": "code",
   "execution_count": 65,
   "metadata": {},
   "outputs": [
    {
     "name": "stdout",
     "output_type": "stream",
     "text": [
      "[  6.  15. -23.]\n"
     ]
    }
   ],
   "source": [
    "print(x)"
   ]
  },
  {
   "cell_type": "code",
   "execution_count": 66,
   "metadata": {},
   "outputs": [
    {
     "name": "stdout",
     "output_type": "stream",
     "text": [
      "[[-0.81649658  0.27602622 -0.50709255]\n",
      " [-0.40824829 -0.89708523  0.16903085]\n",
      " [-0.40824829  0.34503278  0.84515425]]\n"
     ]
    }
   ],
   "source": [
    "print(Q)"
   ]
  },
  {
   "cell_type": "code",
   "execution_count": 67,
   "metadata": {},
   "outputs": [
    {
     "name": "stdout",
     "output_type": "stream",
     "text": [
      "[[-2.44948974 -2.04124145 -1.63299316]\n",
      " [ 0.         -2.41522946 -1.51814423]\n",
      " [ 0.          0.         -0.16903085]]\n"
     ]
    }
   ],
   "source": [
    "print(R)"
   ]
  },
  {
   "cell_type": "code",
   "execution_count": 68,
   "metadata": {},
   "outputs": [
    {
     "name": "stdout",
     "output_type": "stream",
     "text": [
      "[[ 2.00000000e+00  1.00000000e+00  1.00000000e+00]\n",
      " [ 1.00000000e+00  3.00000000e+00  2.00000000e+00]\n",
      " [ 1.00000000e+00 -2.42598438e-17 -2.10832838e-16]]\n"
     ]
    }
   ],
   "source": [
    "print(np.dot(Q, R))"
   ]
  },
  {
   "cell_type": "code",
   "execution_count": 73,
   "metadata": {},
   "outputs": [],
   "source": [
    "# The Jacobi method \n",
    "import numpy as np\n",
    "\n",
    "def jacobi(A, B, n, tol=1e-10):\n",
    "    x = np.zeros_like(B)\n",
    "    \n",
    "    for iter_count in range(n):\n",
    "        x_new = np.zeros_like(x)\n",
    "\n",
    "        for i in range(A.shape[0]):\n",
    "            s1 = np.dot(A[i, :i], x[:i])\n",
    " \n",
    "            s2 = np.dot(A[i, i + 1:], x[i + 1:])\n",
    "\n",
    "            x_new[i] = (B[i] - s1 - s2) / A[i, i]\n",
    "   \n",
    "        if np.allclose(x, x_new, tol):\n",
    "            break\n",
    "        x = x_new\n",
    "    return x"
   ]
  },
  {
   "cell_type": "code",
   "execution_count": 77,
   "metadata": {},
   "outputs": [
    {
     "name": "stdout",
     "output_type": "stream",
     "text": [
      "x = [ 1.  2. -1.  1.]\n"
     ]
    }
   ],
   "source": [
    "A = np.array([\n",
    "    [10., -1., 2., 0.],\n",
    "    [-1., 11., -1., 3.],\n",
    "    [2., -1., 10., -1.],\n",
    "    [0., 3., -1., 8.]\n",
    "])\n",
    "B = np.array([6., 25., -11., 15.])\n",
    "n = 25\n",
    "\n",
    "x = jacobi(A, B, n)\n",
    "print('x =', x)"
   ]
  },
  {
   "cell_type": "code",
   "execution_count": 84,
   "metadata": {},
   "outputs": [],
   "source": [
    "#Using the Gauss-Seidel method\n",
    "import numpy as np\n",
    "\n",
    "def gauss(A, B, n, tol=1e-10):\n",
    "    L = np.tril(A) #Returns the lower traingular matrix of A\n",
    "    U = A - L # Decompose A = L + U\n",
    "    L_inv = np.linalg.inv(L)\n",
    "    x = np.zeros_like(B)\n",
    "    \n",
    "    for i in range(n):\n",
    "        Ux = np.dot(U, x)\n",
    "        x_new = np.dot(L_inv, B - Ux)\n",
    "        \n",
    "        if np.allclose(x, x_new, tol):\n",
    "            break\n",
    "        \n",
    "        x = x_new\n",
    "        \n",
    "    return x"
   ]
  },
  {
   "cell_type": "code",
   "execution_count": 85,
   "metadata": {},
   "outputs": [
    {
     "name": "stdout",
     "output_type": "stream",
     "text": [
      "x = [ 1.  2. -1.  1.]\n"
     ]
    }
   ],
   "source": [
    "A = np.array([\n",
    "    [10., -1., 2., 0.],\n",
    "    [-1., 11., -1., 3.],\n",
    "    [2., -1., 10., -1.],\n",
    "    [0., 3., -1., 8.]\n",
    "])\n",
    "B = np.array([6., 25., -11., 15.])\n",
    "n = 25\n",
    "\n",
    "x = gauss(A, B, n)\n",
    "print('x =', x)"
   ]
  },
  {
   "cell_type": "code",
   "execution_count": null,
   "metadata": {},
   "outputs": [],
   "source": []
  }
 ],
 "metadata": {
  "kernelspec": {
   "display_name": "MastFinance",
   "language": "python",
   "name": "mastfinance"
  },
  "language_info": {
   "codemirror_mode": {
    "name": "ipython",
    "version": 3
   },
   "file_extension": ".py",
   "mimetype": "text/x-python",
   "name": "python",
   "nbconvert_exporter": "python",
   "pygments_lexer": "ipython3",
   "version": "3.8.5"
  }
 },
 "nbformat": 4,
 "nbformat_minor": 4
}
