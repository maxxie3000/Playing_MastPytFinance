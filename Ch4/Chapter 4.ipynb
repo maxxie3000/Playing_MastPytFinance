{
 "cells": [
  {
   "cell_type": "markdown",
   "metadata": {},
   "source": [
    "# Chapter 4: Numerical methods for Pricing Options"
   ]
  },
  {
   "cell_type": "code",
   "execution_count": 5,
   "metadata": {},
   "outputs": [
    {
     "name": "stdout",
     "output_type": "stream",
     "text": [
      "Q is 0.37817774094006024\n"
     ]
    }
   ],
   "source": [
    "#Calculate risk neutral propability Q\n",
    "import math \n",
    "\n",
    "r = 0.05\n",
    "T = 2\n",
    "t = T / 2\n",
    "u = 1.3\n",
    "d = 0.9\n",
    "#Calculate probability Q\n",
    "q = (math.exp(r*t)-d) / (u-d)\n",
    "\n",
    "print(f'Q is {q}')"
   ]
  },
  {
   "cell_type": "code",
   "execution_count": null,
   "metadata": {},
   "outputs": [],
   "source": []
  }
 ],
 "metadata": {
  "kernelspec": {
   "display_name": "MastFinance",
   "language": "python",
   "name": "mastfinance"
  },
  "language_info": {
   "codemirror_mode": {
    "name": "ipython",
    "version": 3
   },
   "file_extension": ".py",
   "mimetype": "text/x-python",
   "name": "python",
   "nbconvert_exporter": "python",
   "pygments_lexer": "ipython3",
   "version": "3.8.5"
  }
 },
 "nbformat": 4,
 "nbformat_minor": 4
}
