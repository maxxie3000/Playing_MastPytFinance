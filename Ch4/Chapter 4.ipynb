{
 "cells": [
  {
   "cell_type": "markdown",
   "metadata": {},
   "source": [
    "# Chapter 4: Numerical methods for Pricing Options"
   ]
  },
  {
   "cell_type": "code",
   "execution_count": 5,
   "metadata": {},
   "outputs": [
    {
     "name": "stdout",
     "output_type": "stream",
     "text": [
      "Q is 0.37817774094006024\n"
     ]
    }
   ],
   "source": [
    "#Calculate risk neutral propability Q\n",
    "import math \n",
    "\n",
    "r = 0.05\n",
    "T = 2\n",
    "t = T / 2\n",
    "u = 1.3\n",
    "d = 0.9\n",
    "#Calculate probability Q\n",
    "q = (math.exp(r*t)-d) / (u-d)\n",
    "\n",
    "print(f'Q is {q}')"
   ]
  },
  {
   "cell_type": "code",
   "execution_count": 6,
   "metadata": {},
   "outputs": [],
   "source": [
    "import math\n",
    "\n",
    "class StockOption(object):\n",
    "    def __init__(self, S0, K, r=0.05, T=1, N=2, pu=0, pd=0,\n",
    "                 div=0, sigma=0, is_put=False, is_am=False):\n",
    "        self.S0 = S0\n",
    "        self.K = K\n",
    "        self.r = r\n",
    "        self.T = T\n",
    "        self.N = max(1, N)\n",
    "        self.STs = [] # Declare the stock prices tree\n",
    "\n",
    "        # Optional parameters used by derived classes\n",
    "        self.pu, self.pd = pu, pd\n",
    "        self.div = div\n",
    "        self.sigma = sigma\n",
    "        self.is_call = not is_put\n",
    "        self.is_european = not is_am\n",
    "\n",
    "        @property\n",
    "        def dt(self):\n",
    "            '''Single time step, in years'''\n",
    "            return self.T/float(self.N)\n",
    "\n",
    "        @property\n",
    "        def df(self):\n",
    "            '''The discount factor'''\n",
    "            return math.exp(-(self.r-self.div)*self.dt)"
   ]
  },
  {
   "cell_type": "code",
   "execution_count": 7,
   "metadata": {},
   "outputs": [],
   "source": [
    "x = StockOption(50, 50)"
   ]
  },
  {
   "cell_type": "code",
   "execution_count": 8,
   "metadata": {},
   "outputs": [
    {
     "ename": "AttributeError",
     "evalue": "'StockOption' object has no attribute 'dt'",
     "output_type": "error",
     "traceback": [
      "\u001b[0;31m---------------------------------------------------------------------------\u001b[0m",
      "\u001b[0;31mAttributeError\u001b[0m                            Traceback (most recent call last)",
      "\u001b[0;32m<ipython-input-8-0f790ca00712>\u001b[0m in \u001b[0;36m<module>\u001b[0;34m\u001b[0m\n\u001b[0;32m----> 1\u001b[0;31m \u001b[0mx\u001b[0m\u001b[0;34m.\u001b[0m\u001b[0mdt\u001b[0m\u001b[0;34m\u001b[0m\u001b[0;34m\u001b[0m\u001b[0m\n\u001b[0m",
      "\u001b[0;31mAttributeError\u001b[0m: 'StockOption' object has no attribute 'dt'"
     ]
    }
   ],
   "source": [
    "x.dt"
   ]
  },
  {
   "cell_type": "code",
   "execution_count": null,
   "metadata": {},
   "outputs": [],
   "source": []
  }
 ],
 "metadata": {
  "kernelspec": {
   "display_name": "MastFinance",
   "language": "python",
   "name": "mastfinance"
  },
  "language_info": {
   "codemirror_mode": {
    "name": "ipython",
    "version": 3
   },
   "file_extension": ".py",
   "mimetype": "text/x-python",
   "name": "python",
   "nbconvert_exporter": "python",
   "pygments_lexer": "ipython3",
   "version": "3.8.5"
  }
 },
 "nbformat": 4,
 "nbformat_minor": 4
}
