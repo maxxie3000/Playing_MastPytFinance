{
 "cells": [
  {
   "cell_type": "markdown",
   "metadata": {},
   "source": [
    "# Chapter 3: Nonlinearity in Finance"
   ]
  },
  {
   "cell_type": "code",
   "execution_count": 3,
   "metadata": {},
   "outputs": [],
   "source": [
    " #An incremental search algorithm \n",
    "\n",
    "import numpy as np\n",
    "\n",
    "def incremental_search(func, a, b, dx):\n",
    "    \"\"\"\n",
    "    :param func: The function to solve\n",
    "    :param a: The left boundary x-axis value\n",
    "    :param b: The right boundary x-axis value\n",
    "    :param dx: The incremental value in searching\n",
    "    :return: \n",
    "        The x-axis value of the root,\n",
    "        number of iterations used\n",
    "    \"\"\"\n",
    "    fa = func(a)\n",
    "    c = a + dx\n",
    "    fc = func(c)\n",
    "    n = 1\n",
    "    while np.sign(fa) == np.sign(fc):\n",
    "        if a >= b:\n",
    "            return a - dx, n\n",
    "\n",
    "        a = c\n",
    "        fa = fc\n",
    "        c = a + dx\n",
    "        fc = func(c)\n",
    "        n += 1\n",
    "\n",
    "    if fa == 0:\n",
    "        return a, n\n",
    "    elif fc == 0:\n",
    "        return c, n\n",
    "    else:\n",
    "        return (a + c)/2., n"
   ]
  },
  {
   "cell_type": "code",
   "execution_count": 19,
   "metadata": {},
   "outputs": [
    {
     "name": "stdout",
     "output_type": "stream",
     "text": [
      "CPU times: user 17.2 ms, sys: 1.25 ms, total: 18.4 ms\n",
      "Wall time: 17.2 ms\n",
      "Root is: 1.2414999999999783\n",
      "Iterations: 6242\n"
     ]
    }
   ],
   "source": [
    "y = lambda x: x**3 + 2.*x**2 - 5\n",
    "%time root, iterations = incremental_search(y, -5, 5, 0.001)\n",
    "print(\"Root is:\", root)\n",
    "print(\"Iterations:\", iterations)"
   ]
  },
  {
   "cell_type": "code",
   "execution_count": 13,
   "metadata": {},
   "outputs": [],
   "source": [
    "# The bisection method \n",
    "\n",
    "def bisection(func, a, b, tol=0.1, maxiter=10):\n",
    "    \"\"\"\n",
    "    :param func: The function to solve\n",
    "    :param a: The x-axis value where f(a)<0\n",
    "    :param b: The x-axis value where f(b)>0\n",
    "    :param tol: The precision of the solution\n",
    "    :param maxiter: Maximum number of iterations\n",
    "    :return: \n",
    "        The x-axis value of the root,\n",
    "        number of iterations used\n",
    "    \"\"\"\n",
    "    c = (a+b)*0.5  # Declare c as the midpoint ab\n",
    "    n = 1  # Start with 1 iteration\n",
    "    while n <= maxiter:\n",
    "        c = (a+b)*0.5\n",
    "        if func(c) == 0 or abs(a-b)*0.5 < tol:\n",
    "            # Root is found or is very close\n",
    "            return c, n\n",
    "\n",
    "        n += 1\n",
    "        if func(c) < 0:\n",
    "            a = c\n",
    "        else:\n",
    "            b = c\n",
    "\n",
    "    return c, n"
   ]
  },
  {
   "cell_type": "code",
   "execution_count": 18,
   "metadata": {},
   "outputs": [
    {
     "name": "stdout",
     "output_type": "stream",
     "text": [
      "CPU times: user 37 µs, sys: 1e+03 ns, total: 38 µs\n",
      "Wall time: 41 µs\n",
      "Root is: 1.241903305053711\n",
      "Iterations: 20\n"
     ]
    }
   ],
   "source": [
    "y = lambda x: x**3 + 2.*x**2 - 5\n",
    "%time root, iterations = bisection(y, -5, 5, 0.00001, 100)\n",
    "print(\"Root is:\", root)\n",
    "print(\"Iterations:\", iterations)"
   ]
  },
  {
   "cell_type": "code",
   "execution_count": 15,
   "metadata": {},
   "outputs": [],
   "source": [
    "# The Newton-Raphson method \n",
    "def newton(func, df, x, tol=0.001, maxiter=100):\n",
    "    \"\"\"\n",
    "    :param func: The function to solve\n",
    "    :param df: The derivative function of f\n",
    "    :param x: Initial guess value of x\n",
    "    :param tol: The precision of the solution\n",
    "    :param maxiter: Maximum number of iterations\n",
    "    :return: \n",
    "        The x-axis value of the root,\n",
    "        number of iterations used\n",
    "    \"\"\"\n",
    "    n = 1\n",
    "    while n <= maxiter:\n",
    "        x1 = x - func(x)/df(x)\n",
    "        if abs(x1 - x) < tol: # Root is very close\n",
    "            return x1, n\n",
    "\n",
    "        x = x1\n",
    "        n += 1\n",
    "\n",
    "    return None, n"
   ]
  },
  {
   "cell_type": "code",
   "execution_count": 29,
   "metadata": {},
   "outputs": [
    {
     "name": "stdout",
     "output_type": "stream",
     "text": [
      "CPU times: user 42 µs, sys: 1 µs, total: 43 µs\n",
      "Wall time: 46.3 µs\n",
      "Root is: 1.0\n",
      "Iterations: 19\n"
     ]
    }
   ],
   "source": [
    "y = lambda x: x**10 + x**4 + x**3 + 2.*x**2 - 5.\n",
    "dy = lambda x: 10*x**9 + 4.*x**3 + 3.*x**2. + 4.*x\n",
    "%time root, iterations = newton(y, dy, 5.0, 0.00001, 100)\n",
    "print(\"Root is:\", root)\n",
    "print(\"Iterations:\", iterations)"
   ]
  },
  {
   "cell_type": "code",
   "execution_count": 30,
   "metadata": {},
   "outputs": [
    {
     "name": "stdout",
     "output_type": "stream",
     "text": [
      "CPU times: user 18 µs, sys: 1 µs, total: 19 µs\n",
      "Wall time: 22.2 µs\n",
      "Root is: 1.241896563034502\n",
      "Iterations: 7\n"
     ]
    }
   ],
   "source": [
    "y = lambda x: x**3 + 2.*x**2 - 5.\n",
    "dy = lambda x: 3.*x**2. + 4.*x\n",
    "%time root, iterations = newton(y, dy, 5.0, 0.00001, 100)\n",
    "print(\"Root is:\", root)\n",
    "print(\"Iterations:\", iterations)"
   ]
  },
  {
   "cell_type": "code",
   "execution_count": 31,
   "metadata": {},
   "outputs": [],
   "source": [
    "# The secant root-finding method \n",
    "\n",
    "def secant(func, a, b, tol=0.001, maxiter=100):\n",
    "    \"\"\"\n",
    "    :param func: The function to solve\n",
    "    :param a: Initial x-axis guess value\n",
    "    :param b: Initial x-axis guess value, where b>a\n",
    "    :param tol: The precision of the solution\n",
    "    :param maxiter: Maximum number of iterations\n",
    "    :return: \n",
    "        The x-axis value of the root,\n",
    "        number of iterations used\n",
    "    \"\"\"\n",
    "    n = 1\n",
    "    while n <= maxiter:\n",
    "        c = b - func(b)*((b-a)/(func(b)-func(a)))\n",
    "        if abs(c-b) < tol:\n",
    "            return c, n\n",
    "\n",
    "        a = b\n",
    "        \n",
    "        b = c\n",
    "        \n",
    "        n += 1\n",
    "\n",
    "    return None, n"
   ]
  },
  {
   "cell_type": "code",
   "execution_count": 32,
   "metadata": {},
   "outputs": [
    {
     "name": "stdout",
     "output_type": "stream",
     "text": [
      "CPU times: user 35 µs, sys: 0 ns, total: 35 µs\n",
      "Wall time: 40.1 µs\n",
      "Root is: 1.2418965622558549\n",
      "Iterations: 14\n"
     ]
    }
   ],
   "source": [
    "y = lambda x: x**3 + 2.*x**2 - 5.\n",
    "%time root, iterations = secant(y, -5.0, 5.0, 0.00001, 100)\n",
    "print(\"Root is:\", root)\n",
    "print(\"Iterations:\", iterations)"
   ]
  },
  {
   "cell_type": "code",
   "execution_count": 37,
   "metadata": {},
   "outputs": [
    {
     "name": "stdout",
     "output_type": "stream",
     "text": [
      "CPU times: user 27 µs, sys: 1e+03 ns, total: 28 µs\n",
      "Wall time: 32.2 µs\n",
      "1.241903305053711 1.2418965630344798 1.2418965630344803 1.241896563034559\n"
     ]
    }
   ],
   "source": [
    "# Root-finding Scalar Functions\n",
    "import scipy.optimize as opt\n",
    "\n",
    "y = lambda x: x**3 + 2.*x**2 - 5.\n",
    "dy = lambda x: 3.*x**2 + 4.*x\n",
    "\n",
    "#Call bisect \n",
    "bis = opt.bisect(y, -5., 5., xtol=0.00001)\n",
    "#Call newton\n",
    "new = opt.newton(y, 5., fprime=dy)\n",
    "#When fprima is None, Secant is used \n",
    "sec = opt.newton(y, 5.)\n",
    "#Call brentq\n",
    "bre = opt.brentq(y, -5., 5.)\n",
    "\n",
    "print(bis, new, sec, bre)"
   ]
  },
  {
   "cell_type": "code",
   "execution_count": 42,
   "metadata": {},
   "outputs": [
    {
     "name": "stdout",
     "output_type": "stream",
     "text": [
      "[-1.33306553]\n",
      "    fjac: array([[-1.]])\n",
      "     fun: array([3.55271368e-15])\n",
      " message: 'The solution converged.'\n",
      "    nfev: 12\n",
      "     qtf: array([-3.73605502e-09])\n",
      "       r: array([-9.59451815])\n",
      "  status: 1\n",
      " success: True\n",
      "       x: array([1.24189656])\n"
     ]
    }
   ],
   "source": [
    "# General nonlinear solvers \n",
    "import scipy.optimize as opt\n",
    "\n",
    "y = lambda x: x**3 + 2.*x**2 - 5.\n",
    "dy = lambda x: 3.*x**2 + 4.*x\n",
    "\n",
    "print(opt.fsolve(y, -5., fprime=dy))\n",
    "\n",
    "print(opt.root(y, 5.))"
   ]
  },
  {
   "cell_type": "code",
   "execution_count": null,
   "metadata": {},
   "outputs": [],
   "source": []
  }
 ],
 "metadata": {
  "kernelspec": {
   "display_name": "MastFinance",
   "language": "python",
   "name": "mastfinance"
  },
  "language_info": {
   "codemirror_mode": {
    "name": "ipython",
    "version": 3
   },
   "file_extension": ".py",
   "mimetype": "text/x-python",
   "name": "python",
   "nbconvert_exporter": "python",
   "pygments_lexer": "ipython3",
   "version": "3.8.5"
  }
 },
 "nbformat": 4,
 "nbformat_minor": 4
}
